{
 "cells": [
  {
   "cell_type": "markdown",
   "metadata": {},
   "source": [
    "# Title"
   ]
  },
  {
   "cell_type": "markdown",
   "metadata": {},
   "source": [
    "## Subtitle"
   ]
  },
  {
   "cell_type": "markdown",
   "metadata": {},
   "source": [
    "Text zu:\n",
    "- was ist MeinBGE\n",
    "- Wer ist MeinBGE\n",
    "- Warum Analyse?"
   ]
  },
  {
   "cell_type": "markdown",
   "metadata": {},
   "source": [
    "## Datengrundlage"
   ]
  },
  {
   "cell_type": "markdown",
   "metadata": {},
   "source": [
    "Text:\n",
    "- was sind das für Daten? (nicht öffentlich, etc)\n",
    "- Was mache ich mit den Daten?\n",
    "- Welche mittel/module nutze ich?"
   ]
  },
  {
   "cell_type": "markdown",
   "metadata": {},
   "source": [
    "## Explorative Analyse"
   ]
  },
  {
   "cell_type": "markdown",
   "metadata": {},
   "source": [
    "### Allgemeine Übersicht "
   ]
  },
  {
   "cell_type": "markdown",
   "metadata": {},
   "source": [
    "There are to this date <i>(Zeitpunkt Postgres-Dump) Anzahl User*innen</i> and <i>Anzahl Kinder</i> with <i>Anzahl Crowdhörnchen</i> users as Crowdhörnchen (monatliche Lastschrift). <br>\n",
    "These people have now generated about <i>Spendentopf-Summe (kumulativ)</i> which led to <i>Anzahl Grundeinkommen</i> distributed over <i>Anzahl Verlosungen</i> since <i>Startdatum</i>. <br>\n",
    "In the last years <i>Anzahl Erwachsene mit GE</i> adult users and <i>Anzahl Kinder mit GE</i> children received a monthly GE for one year."
   ]
  },
  {
   "cell_type": "markdown",
   "metadata": {},
   "source": [
    "### Getting to know the users"
   ]
  },
  {
   "attachments": {},
   "cell_type": "markdown",
   "metadata": {},
   "source": [
    "#### Allgemein\n",
    "- Woher kommen User*innen? --> Karte\n",
    "- Wie alt sind User*innen?\n",
    "\n",
    "#### Zeitverlauf\n",
    "- Wann kommen User *innen dazu? Wann gehen User*innen?\n",
    "    - Bargraph mit (Gewinn/Verlust und Absolutwert als Line)\n",
    "- Wann werden User*innen zu CH? Wann hören sie auf?\n",
    "    - Bargraph mit (Gewinn/Verlust und Absolutwert als Line)\n",
    "- Da wenig persönliche Daten erhoben werden, kaum Charakterisierung der User*innen möglich"
   ]
  },
  {
   "cell_type": "markdown",
   "metadata": {},
   "source": [
    "### Donations"
   ]
  },
  {
   "attachments": {},
   "cell_type": "markdown",
   "metadata": {},
   "source": [
    "- wie viel Spenden pro Monat? Gruppiert nach Spendentopf/Verein\n",
    "- Welche Menschen spenden?\n",
    "    - Einteilbar in Altersgruppen?\n",
    "- tageswerte mit events:\n",
    "    - gruppierung in Neu-CH, CH-Update, Einzelspende (area-chart, absolut), mit markierung von Events (v.A. Newsletter, wenn möglich auch andere Aktionen"
   ]
  },
  {
   "cell_type": "markdown",
   "metadata": {},
   "source": [
    "### Raffles"
   ]
  },
  {
   "cell_type": "markdown",
   "metadata": {},
   "source": [
    "- Wie viel nicht-CH nehmen mehr als einmal teil? (als KPI?)\n",
    "- Wie viele GE pro Monat?"
   ]
  },
  {
   "cell_type": "markdown",
   "metadata": {},
   "source": [
    "### Zusätzlich wenn Zeit"
   ]
  },
  {
   "attachments": {},
   "cell_type": "markdown",
   "metadata": {},
   "source": [
    "- Lebenszyklus User mit mittelwerten\n",
    "    1. Account-Erstellung\n",
    "        - mit Dauerauftrag?\n",
    "    2. Verlosungsteilnahme\n",
    "        - weitere Teilnahmen?\n",
    "        - Account löschung?\n",
    "    3. CH-Sign-Up\n",
    "        - Wie lange? \n",
    "        - Wie viel Teilnahmen an Verlosungen vor Sign-Up?\n",
    "    4. CH-Sign-Out\n",
    "        - Zeitdauer bis erneutem CH-Sign-Up?\n",
    "        - Wie häufig Sign-Up/Sign-Out?\n",
    "    5. Account Löschung\n",
    "        - Wie viele Menschen löschen Account?\n",
    "\n",
    "- Wann werden Newsletter akzeptiert?\n",
    "\n",
    "- Wünsche:\n",
    "    - Was steht im Wunsch? --> Bag of Words (häufigste Wortkombination aus 2-3 Worten)\n",
    "    - Welche Wünsche werden am meisten geliked? (Auch auf Website dargestellt)\n",
    "\n",
    "- Kommentare auf Website-Magazin/Blogposts:\n",
    "    - Sentiment-Analyse\n"
   ]
  }
 ],
 "metadata": {
  "kernelspec": {
   "display_name": "Python 3",
   "language": "python",
   "name": "python3"
  },
  "language_info": {
   "codemirror_mode": {
    "name": "ipython",
    "version": 3
   },
   "file_extension": ".py",
   "mimetype": "text/x-python",
   "name": "python",
   "nbconvert_exporter": "python",
   "pygments_lexer": "ipython3",
   "version": "3.7.5"
  }
 },
 "nbformat": 4,
 "nbformat_minor": 2
}
