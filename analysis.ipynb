{
 "cells": [
  {
   "cell_type": "markdown",
   "metadata": {},
   "source": [
    "# Explorative Analysis of Mein Grundeinkommen e.V. <br> and its Unconditional Basic Income Raffle"
   ]
  },
  {
   "cell_type": "markdown",
   "metadata": {},
   "source": [
    "___"
   ]
  },
  {
   "cell_type": "markdown",
   "metadata": {},
   "source": [
    "If you're viewing this on github, please consider changing to nbviewer for a better functionality and viewer experience!<br>\n",
    "[Click here to view this on nbviewer](https://nbviewer.jupyter.org/github/adrian-baumann/basic-income-explorative-analysis/blob/master/analysis.ipynb)"
   ]
  },
  {
   "cell_type": "markdown",
   "metadata": {},
   "source": [
    "___"
   ]
  },
  {
   "cell_type": "markdown",
   "metadata": {},
   "source": [
    "Hi! I'm Adrian and this is a portfolio project I did in collaboration with the non-profit organisation Mein Grundeinkommen e.V. to showcase my skills as a Data Analyst.\n",
    "\n",
    "In this project I explored an anonymized user database using the following skills and technologies:\n",
    "\n",
    ">#### Skills\n",
    ">- Data Wrangling & Data Analysis\n",
    ">- Data Visualization\n",
    ">- Communication of Insights\n",
    "\n",
    ">#### Technologies\n",
    ">- Python 3.7 (pandas, NumPy, Scikit-learn, Matplotlib, Seaborn , GeoPandas and psycopg2)\n",
    ">- PostgreSQL\n",
    ">- Jupyter Notebook\n",
    "\n",
    "As this is a real user database with about 1,5 million accounts I did all aggregations and analyses in Python and PostgreSQL beforehand and uploaded only those datasets necessary for plotting."
   ]
  },
  {
   "cell_type": "markdown",
   "metadata": {},
   "source": [
    "## Table of contents"
   ]
  },
  {
   "cell_type": "markdown",
   "metadata": {},
   "source": [
    "1. **[Introduction](#Introduction)**\n",
    "2. **[Data](#Data)**\n",
    "3. **[Setup](#Setup)**\n",
    "4. **[Analyses](#Analyses)**\n",
    "    1. **[Overview](#Overview)**\n",
    "    2. **[Getting to know the users](#Getting-to-know-the-users)**\n",
    "    3. **[User base development](#User-basedevelopment)**\n",
    "    4. **[Monthly donations development](#Monthly-donations-development)**\n",
    "    5. **[Raffles](#Raffles)**\n",
    "5. **[Conclusion](#Conclusion)**"
   ]
  },
  {
   "cell_type": "markdown",
   "metadata": {},
   "source": [
    "# Introduction"
   ]
  },
  {
   "cell_type": "markdown",
   "metadata": {},
   "source": [
    "[Mein Grundeinkommen e.V.](https://www.mein-grundeinkommen.de/) is a non-profit organisation trying to advance the discussion and knowledge about the unconditional basic income and to study its social impact on our society in Germany by raffling off crowdfunded unconditional basic incomes.\n",
    "\n",
    "As of Nov.'19 Mein Grundeinkommen did not have the resources to do in-depth Data Analysis. Thus my analysis aims to answer some key questions to develop an understanding of the users and donors of Mein Grundeinkommen e.V. "
   ]
  },
  {
   "cell_type": "markdown",
   "metadata": {},
   "source": [
    ">#### Questions (Click to navigate to question)\n",
    ">1. **[Where are the people who joined the MeinBGE platform from?](#user-origin)**\n",
    ">2. **[How old are the users typically?](#user-age)**\n",
    ">3. **[When do users sign up? How many of them leave?](#sign-ups)**\n",
    ">4. **[How many users decide to become monthly donors?](#user-to-donor-amount)**\n",
    ">5. **[When does a user become a monthly donor?](#user-to-donor-dates)**\n",
    ">6. **[How are the donation values distributed?](#donation-distribution)**\n",
    ">7. **[How much money is donated monthly into UBIs / to organisational work?](#donations-sum)**\n",
    ">8. **[How many UBIs are raffled per month?](#raffles-monthly)**"
   ]
  },
  {
   "cell_type": "markdown",
   "metadata": {},
   "source": [
    "## Who is behind Mein Grundeinkommen e.V.?"
   ]
  },
  {
   "cell_type": "markdown",
   "metadata": {},
   "source": [
    "Mein Grundeinkommen e.V. (MeinBGE) is a Berlin based non-profit organisation pushing the debate about unconditional basic income (UBI) in Germany. <br> Founded rather spontaneously in 2014 after a very successful first crowdfunding campaign, about thirty full-time activists currently work in the organisation. The main project is a raffle of UBIs which are donated by a large number of private persons. More than 444 winners received over five million Euro in total over the last five years. \n",
    "\n",
    "With these winners - people who actually receive money unconditionally - MeinBGE is able to find out how and to which extent an UBI affects people in different living situations. Do they become happier? How does it influence their social relationships? Do they just quit their job and relax in a hammock? Does their health change? Therefore the project takes the UBI discussion beyond \"what if\" scenarios into reality. "
   ]
  },
  {
   "cell_type": "markdown",
   "metadata": {},
   "source": [
    "## What are the Unconditional Basic Income Raffles?"
   ]
  },
  {
   "cell_type": "markdown",
   "metadata": {},
   "source": [
    "A UBI in a MeinBGE raffle means the winner receives 1,000€ per month over one year, totaling up to 12,000€. <br> Underlining the point of unconditionality, everyone can participate in the raffles and has a chance to receive a UBI - no matter their age, nationality, income or plans on how to spend the money. Everything is crowdfunded, though a donation is not required for participation in the raffles. \n",
    "\n",
    "The raffles and crowdfunding are handled on the platform [mein-grundeinkommen.de](https://www.mein-grundeinkommen.de/). With over a million accounts this project is one of the biggest UBI projects in the world and with that provides a enormous amount of data. "
   ]
  },
  {
   "cell_type": "markdown",
   "metadata": {},
   "source": [
    "## Why do an Explorative Data Analysis?"
   ]
  },
  {
   "cell_type": "markdown",
   "metadata": {},
   "source": [
    "In our current time of digitalization, achievement-oriented society and growing social division the UBI might be a cornerstone in dealing with these challenges. It’s not a masterplan for solving everything but it made me to want to help the organisation in their pursuit of answers on how UBI might impact our society.\n",
    "\n",
    "MeinBGE already does extensive research with the winners and their live with UBI, but has only limited knowledge on the platform usage and its crucial point to spread the knowledge about UBI. When do people get interested and sign up? When do they take part in raffles? Why do people start donating? Answer to all these questions and more follow in this analysis."
   ]
  },
  {
   "cell_type": "markdown",
   "metadata": {},
   "source": [
    "## Data"
   ]
  },
  {
   "cell_type": "markdown",
   "metadata": {},
   "source": [
    "The data source for this analysis was an anonymised PostgreSQL database dump provided by the nice people at MeinBGE.\n",
    "It included data from 03.09.2014 up until 22.11.2019.\n",
    "\n",
    "The used data includes data tables about the users, the users entries into the raffles, the raffles themselves, the provided UBIs and the users debit mandates.   \n",
    "\n",
    "The following analysis was made with Python.\n",
    "Using [psycog2](https://pypi.org/project/psycopg2/) I wrote the necessary queries to do data wrangling with [pandas](https://pandas.pydata.org/) and [numpy](https://numpy.org/). Afterwards I exported the data to CSV files to use in the notebook. Here I used [matplotlib](https://matplotlib.org/), [seaborn](https://seaborn.pydata.org/) and pandas for plotting and [scikit-learn](https://scikit-learn.org/) for regression."
   ]
  },
  {
   "cell_type": "markdown",
   "metadata": {},
   "source": [
    "## Setup"
   ]
  },
  {
   "cell_type": "code",
   "execution_count": null,
   "metadata": {},
   "outputs": [],
   "source": [
    "# Python module imports\n",
    "import pandas as pd\n",
    "import numpy as np\n",
    "import matplotlib.pyplot as plt\n",
    "import matplotlib.ticker as ticker\n",
    "import seaborn as sns\n",
    "from sklearn.linear_model import LinearRegression"
   ]
  },
  {
   "cell_type": "code",
   "execution_count": null,
   "metadata": {},
   "outputs": [],
   "source": [
    "# Setting options\n",
    "pd.set_option('display.float_format', lambda x: '{:,.2f}'.format(x))"
   ]
  },
  {
   "cell_type": "code",
   "execution_count": null,
   "metadata": {},
   "outputs": [],
   "source": [
    "# loading datasets\n",
    "overview = pd.read_csv('data/general_overview.csv', index_col=False)\n",
    "age_distribution = pd.read_csv('data/age_distribution.csv')\n",
    "user_sign_up = pd.read_csv('data/user_sign_up.csv', index_col=0)\n",
    "data_CH_monthly = pd.read_csv('data/data_CH_monthly.csv', index_col=0)\n",
    "ch_sign_up = pd.read_csv('data/ch_sign_up.csv', index_col=0)\n",
    "data_donation_monthly = pd.read_csv(\n",
    "    'data/data_donation_monthly.csv', index_col=0)\n",
    "data_donation_monthly = pd.read_csv(\n",
    "    'data/data_donation_monthly.csv', index_col=0)\n",
    "data_donation_value = pd.read_csv('data/data_donation_value.csv', index_col=0)\n",
    "donations_all = pd.read_csv('data/donations_all.csv', index_col=False)\n",
    "raffles_over_time = pd.read_csv('data/raffles_over_time.csv', index_col=0)\n",
    "duration_til_mandate = pd.read_csv('data/duration_til_mandate.csv')\n",
    "raffles_before_ch = pd.read_csv('data/raffles_before_ch.csv', index_col=0)"
   ]
  },
  {
   "cell_type": "markdown",
   "metadata": {},
   "source": [
    "## Analyses"
   ]
  },
  {
   "cell_type": "code",
   "execution_count": 2,
   "metadata": {
    "scrolled": true
   },
   "outputs": [
    {
     "data": {
      "text/html": [
       "<script>\n",
       "code_show=true; \n",
       "function code_toggle() {\n",
       " if (code_show){\n",
       " $('div.input').hide();\n",
       " } else {\n",
       " $('div.input').show();\n",
       " }\n",
       " code_show = !code_show\n",
       "} \n",
       "$( document ).ready(code_toggle);\n",
       "</script>\n",
       "The raw code for this IPython notebook is by default hidden for easier reading.\n",
       "To toggle on/off the raw code, click <a href=\"javascript:code_toggle()\">here</a>.\n"
      ],
      "text/plain": [
       "<IPython.core.display.HTML object>"
      ]
     },
     "metadata": {},
     "output_type": "display_data"
    }
   ],
   "source": [
    "%%html\n",
    "<script>\n",
    "code_show=true; \n",
    "function code_toggle() {\n",
    " if (code_show){\n",
    " $('div.input').hide();\n",
    " } else {\n",
    " $('div.input').show();\n",
    " }\n",
    " code_show = !code_show\n",
    "} \n",
    "$( document ).ready(code_toggle);\n",
    "</script>\n",
    "The raw code for this IPython notebook is by default hidden for easier reading.\n",
    "To toggle on/off the raw code, click <a href=\"javascript:code_toggle()\">here</a>."
   ]
  },
  {
   "cell_type": "markdown",
   "metadata": {},
   "source": [
    "### Overview"
   ]
  },
  {
   "cell_type": "markdown",
   "metadata": {},
   "source": [
    "To get a general overview some key numbers are displayed below."
   ]
  },
  {
   "cell_type": "code",
   "execution_count": 2,
   "metadata": {},
   "outputs": [
    {
     "ename": "NameError",
     "evalue": "name 'overview' is not defined",
     "output_type": "error",
     "traceback": [
      "\u001b[1;31m---------------------------------------------------------------------------\u001b[0m",
      "\u001b[1;31mNameError\u001b[0m                                 Traceback (most recent call last)",
      "\u001b[1;32m<ipython-input-2-b75a2d2bc54b>\u001b[0m in \u001b[0;36m<module>\u001b[1;34m\u001b[0m\n\u001b[0;32m      1\u001b[0m \u001b[1;31m# print data overview\u001b[0m\u001b[1;33m\u001b[0m\u001b[1;33m\u001b[0m\u001b[1;33m\u001b[0m\u001b[0m\n\u001b[1;32m----> 2\u001b[1;33m \u001b[0moverview\u001b[0m\u001b[1;33m.\u001b[0m\u001b[0mstyle\u001b[0m\u001b[1;33m.\u001b[0m\u001b[0mformat\u001b[0m\u001b[1;33m(\u001b[0m\u001b[1;33m{\u001b[0m\u001b[1;34m'value'\u001b[0m\u001b[1;33m:\u001b[0m \u001b[1;34m\"{:,.0f}\"\u001b[0m\u001b[1;33m}\u001b[0m\u001b[1;33m)\u001b[0m\u001b[1;33m.\u001b[0m\u001b[0mhide_index\u001b[0m\u001b[1;33m(\u001b[0m\u001b[1;33m)\u001b[0m\u001b[1;33m\u001b[0m\u001b[1;33m\u001b[0m\u001b[0m\n\u001b[0m",
      "\u001b[1;31mNameError\u001b[0m: name 'overview' is not defined"
     ]
    }
   ],
   "source": [
    "# print data overview\n",
    "overview.style.format({'value': \"{:,.0f}\"}).hide_index()"
   ]
  },
  {
   "cell_type": "markdown",
   "metadata": {},
   "source": [
    "Until 22.11.2019 there were 1,338,040 adult and 225,771 child accounts. 120,218 from those adult users were donors with a monthly debit mandate.<br>\n",
    "These people have now donated 5,328,000€ for basic incomes which led to 444 UBIs distributed over 52 raffles since September 2014. <br>\n",
    "In the last years 376 adult users and 68 children received a monthly 1,000€ for a year."
   ]
  },
  {
   "cell_type": "markdown",
   "metadata": {},
   "source": [
    "### Getting to know the users"
   ]
  },
  {
   "cell_type": "markdown",
   "metadata": {},
   "source": [
    "#### Where are the people who joined the MeinBGE platform from? <a class=\"anchor\" id=\"user-origin\"></a>"
   ]
  },
  {
   "cell_type": "markdown",
   "metadata": {},
   "source": [
    "When signing up as a MeinBGE user, people optionally submit their country of residence zip code. Fortunately a lot of the german users did so (1,121,254 in total).\n",
    "Using these zip codes and data openly available at https://www.suche-postleitzahl.org/downloads (e.g. shp-files of zip code regions and the amount of people per zip code) and the geopandas module I was able to create map of Germany and map the percentage of users in the population of each zip code."
   ]
  },
  {
   "cell_type": "markdown",
   "metadata": {},
   "source": [
    "<img src=\"data/users_per_population_vs_zip-code.png\">"
   ]
  },
  {
   "cell_type": "markdown",
   "metadata": {},
   "source": [
    "The map shows that MeinBGE users live slightly more in urban than rural areas in Germany. Comparatively high concentrations can be found in Hamburg (up to 14.3%), Leipzig (up to 13.2%), Berlin (up to 13.0%) and Dresden (up to 9.7%) while for example in east Bavaria there are only few users. Every marked city has at least one district with a percentage of at least 5% in a population off at least 100.<br>\n",
    "\n",
    "The highest absolute user numbers belong to Berlin (148,014), Hamburg (49,077), Köln (27,497), München (24,776), Leipzig (21,035) and Dresden (14,523). "
   ]
  },
  {
   "cell_type": "markdown",
   "metadata": {},
   "source": [
    "#### How old are the users typically?  <a class=\"anchor\" id=\"user-age\"></a>"
   ]
  },
  {
   "cell_type": "markdown",
   "metadata": {},
   "source": [
    "MeinBGE requires users to enter their birthday during signup for the raffle. Together with the name it is used for winner identification and for prevention of fraud by opening multiple accounts.\n",
    "\n",
    "There is no age limit for participation, though children up to the age of 14 years do not have their own account, but are part of one of their legal guardian's account.\n",
    "\n",
    "Using the birthdays of all those users results in the following age distribution."
   ]
  },
  {
   "cell_type": "code",
   "execution_count": null,
   "metadata": {},
   "outputs": [],
   "source": [
    "%config InlineBackend.figure_format = 'svg'\n",
    "\n",
    "# set figure\n",
    "fig, ax = plt.subplots(figsize=(11, 5))\n",
    "# plot graph\n",
    "age_distribution.plot.bar(x='age', y=['num_age_user', 'num_age_child'], stacked=True, rot=0,\n",
    "                          width=1, edgecolor='white', color=['#0888b2', '#6dd6f8'],\n",
    "                          ax=ax)\n",
    "sns.despine(ax=ax, top=True, right=True)\n",
    "ax.xaxis.set_major_locator(ticker.MultipleLocator(5))\n",
    "ax.set_xticklabels(ax.get_xticks().astype(int))\n",
    "ax.set_xlabel('User age [years]')\n",
    "ax.get_yaxis().set_major_formatter(\n",
    "    ticker.FuncFormatter(lambda x, p: format(int(x), ',')))\n",
    "ax.set_ylabel('Number of users')\n",
    "ax.legend(['Adult', 'Child'], title='User Type')\n",
    "ax.set_title('Age distribution of MeinBGE Users', size=14)\n",
    "plt.show()"
   ]
  },
  {
   "cell_type": "markdown",
   "metadata": {},
   "source": [
    "The distribution graph shows a peak for adult users in their late twenties and early thirties with about 50,000 users of age 29. A second, though smaller peak appears for users in their fifties with about 20,000 of age 52.\n",
    "The distribution for children leans stronger to the earlier ages, most of them are of age 5 and younger. Especially low is the number of teenagers between 15 and 18 years with nearly 3,000 per age bracket.\n",
    "The graph shows children accounts also for age 15 and 16. This is due to the fact that these children accounts were not converted into adult accounts and therefore can not take part in raffles but appear in the database."
   ]
  },
  {
   "cell_type": "markdown",
   "metadata": {},
   "source": [
    "### User base development"
   ]
  },
  {
   "cell_type": "markdown",
   "metadata": {},
   "source": [
    "#### When do users sign up? How many of them leave?  <a class=\"anchor\" id=\"sign-ups\"></a>"
   ]
  },
  {
   "cell_type": "code",
   "execution_count": null,
   "metadata": {},
   "outputs": [],
   "source": [
    "%config InlineBackend.figure_format = 'svg'\n",
    "\n",
    "# set start and end for LinReg\n",
    "start_index = user_sign_up[user_sign_up['index'] == 'Dec\\n15'].index[0]\n",
    "end_index = user_sign_up[user_sign_up['index'] == 'Nov\\n19'].index[0]\n",
    "\n",
    "# create LinReg and related data\n",
    "reg_sign_up_data = user_sign_up[['acc_created', 'acc_deleted']].cumsum().sum(axis=1)[start_index:end_index]\n",
    "reg = LinearRegression().fit(\n",
    "    np.arange(len(reg_sign_up_data)).reshape(-1, 1), reg_sign_up_data.values)\n",
    "score=reg.score(np.arange(len(reg_sign_up_data)\n",
    "                ).reshape(-1, 1), reg_sign_up_data.values)\n",
    "prediction=reg.predict(np.arange(len(reg_sign_up_data)).reshape(-1, 1))\n",
    "\n",
    "# create figure\n",
    "fig, ax=plt.subplots(figsize=(11, 7))\n",
    "\n",
    "# plot data\n",
    "user_sign_up[['acc_created', 'acc_deleted']].cumsum().sum(axis=1).plot(color='#0888b2', linewidth=2, label='Users')\n",
    "plt.plot(user_sign_up.index[start_index:end_index], prediction,\n",
    "         color='black', linewidth=2, linestyle='--', label='Growth rate')\n",
    "# set axes\n",
    "ax.yaxis.set_major_locator(ticker.MultipleLocator(250000))\n",
    "ax.get_yaxis().set_major_formatter(\n",
    "    ticker.FuncFormatter(lambda x, p: format(int(x), ',')))\n",
    "ax.set_xticks(user_sign_up.index)\n",
    "ax.set_xticklabels(user_sign_up['index'], size=8)\n",
    "plt.setp(ax.get_xticklabels()[1::2], visible=False)\n",
    "sns.despine(ax=ax, top=True, right=True)\n",
    "ax.set_ylabel('Number of users')\n",
    "ax.set_xlabel('Date ' + r'$[ \\frac{\\mathrm{Month}}{\\mathrm{Year}}]$')\n",
    "ax.legend()\n",
    "ax.set_title('Total amount of users since 2014')\n",
    "# annotate LinReg\n",
    "ax.annotate(xy=(0.55, 0.2), xycoords='axes fraction', ha='left', va='center',\n",
    "            s='Using this LinReg (R\\u00b2 = {0:.3f})\\n'\n",
    "            'a rough growth rate was calculated to\\n'\n",
    "            r'$\\mathbf{{{1:,.0f}}}$ '\n",
    "            'additional users per month.'.format(score, round(reg.coef_[0], -4)), size=12,\n",
    "            bbox=dict(facecolor='white', edgecolor='#707070', alpha=0.9, boxstyle='round,pad=0.8'))\n",
    "plt.show()"
   ]
  },
  {
   "cell_type": "markdown",
   "metadata": {},
   "source": [
    "Although the linear regression has a high enough correlation coefficient to call it a rough representation of user growth, there is clear evidence that most of the MeinBGE user base growth results from specific leaps. There are certain events that may explain these growth spurts, which are displayed within the following graph."
   ]
  },
  {
   "cell_type": "code",
   "execution_count": null,
   "metadata": {
    "scrolled": false
   },
   "outputs": [],
   "source": [
    "%config InlineBackend.figure_format = 'svg'\n",
    "\n",
    "# create figure\n",
    "fig = plt.figure(figsize=(10, 6))\n",
    "# create subplots\n",
    "ax = fig.add_axes([0.15, 0.3, 0.85, 0.7])\n",
    "ax2 = fig.add_axes([0.15, 0, 0.85, 0.3])\n",
    "# draw plots\n",
    "user_sign_up[['acc_created', 'acc_deleted']].sum(axis=1).plot(drawstyle='steps-mid', color=['black'],\n",
    "                                                              linewidth=2, ax=ax)\n",
    "user_sign_up['acc_created'].plot(\n",
    "    kind='bar', rot=0, width=1, edgecolor='white', color=['#0888b2'], alpha=0.5, ax=ax)\n",
    "user_sign_up['acc_deleted'].plot(\n",
    "    kind='bar', rot=0, width=1, edgecolor='white', color=['#707070'], alpha=0.5, ax=ax2)\n",
    "sns.despine(ax=ax, top=True, bottom=True, right=True)\n",
    "sns.despine(ax=ax2, top=True, bottom=True, right=True)\n",
    "ax.set_ylim([0, 250000])\n",
    "ax2.set_ylim([-20000, 0])\n",
    "plt.setp(ax.get_yticklabels()[0], visible=False)\n",
    "ax.set_xticklabels([])\n",
    "ax2.set_xticklabels(user_sign_up['index'])\n",
    "plt.setp(ax2.get_xticklabels()[1::2], visible=False)\n",
    "ax2.tick_params(axis='x', pad=-30, length=0, labelsize=8)\n",
    "ax.get_yaxis().set_major_formatter(\n",
    "    ticker.FuncFormatter(lambda x, p: format(int(x), ',')))\n",
    "ax2.yaxis.set_major_locator(ticker.MultipleLocator(5000))\n",
    "ax2.set_yticklabels(ax2.get_yticks().astype(int))\n",
    "ax2.get_yaxis().set_major_formatter(\n",
    "    ticker.FuncFormatter(lambda x, p: format(int(x), ',')))\n",
    "\n",
    "# make annotations to event dates\n",
    "fontsize = 10\n",
    "box_alpha = 0.1\n",
    "box_color = '#707070'\n",
    "\n",
    "ax.annotate(xy=(user_sign_up[user_sign_up['index'] == 'May\\n17'].index[0],\n",
    "                user_sign_up[user_sign_up['index'] == 'May\\n17']['acc_created']), xycoords='data',\n",
    "            xytext=(0.35, 0.65), textcoords='axes fraction', ha='center', va='bottom',\n",
    "            arrowprops=dict(arrowstyle='->'),\n",
    "            bbox=dict(facecolor=box_color, edgecolor='white', alpha=box_alpha, boxstyle='round,pad=0.5'),\n",
    "            s='TV appearance:\\n\"Mensch Gottschalk\"', size=fontsize, alpha=1.0)\n",
    "ax.annotate(xy=(user_sign_up[user_sign_up['index'] == 'Sep\\n17'].index[0],\n",
    "                user_sign_up[user_sign_up['index'] == 'Sep\\n17']['acc_created']), xycoords='data',\n",
    "            xytext=(0.56, 0.95), textcoords='axes fraction', ha='center', va='top',\n",
    "            arrowprops=dict(arrowstyle='->'),\n",
    "            bbox=dict(facecolor='#707070', edgecolor='white', alpha=0.0, boxstyle='round,pad=0.5'),\n",
    "            s='Raffle with tandem feature', size=fontsize, alpha=0.0)\n",
    "ax.annotate(xy=(user_sign_up[user_sign_up['index'] == 'Jul\\n17'].index[0],\n",
    "                user_sign_up[user_sign_up['index'] == 'Jul\\n17']['acc_created']), xycoords='data',\n",
    "            xytext=(0.56, 0.95), textcoords='axes fraction', ha='center', va='top',\n",
    "            arrowprops=dict(arrowstyle='->'),\n",
    "            bbox=dict(facecolor=box_color, edgecolor='white', alpha=box_alpha, boxstyle='round,pad=0.5'),\n",
    "            s='Raffle with tandem feature', size=fontsize, alpha=1.0)\n",
    "ax.annotate(xy=(user_sign_up[user_sign_up['index'] == 'Nov\\n18'].index[0],\n",
    "                user_sign_up[user_sign_up['index'] == 'Nov\\n18']['acc_created']), xycoords='data',\n",
    "            xytext=(0.78, 0.95), textcoords='axes fraction', ha='center', va='top',\n",
    "            arrowprops=dict(arrowstyle='->'),\n",
    "            bbox=dict(facecolor=box_color, edgecolor='white', alpha=box_alpha, boxstyle='round,pad=0.5'),\n",
    "            s='Tandem feature now\\npermanently included', size=fontsize, alpha=1.0)\n",
    "ax.annotate(xy=(user_sign_up[user_sign_up['index'] == 'Nov\\n18'].index[0],\n",
    "                user_sign_up[user_sign_up['index'] == 'Nov\\n18']['acc_created']), xycoords='data',\n",
    "            xytext=(0.9, 0.65), textcoords='axes fraction', ha='center', va='bottom',\n",
    "            arrowprops=dict(arrowstyle='->'),\n",
    "            bbox=dict(facecolor=box_color, edgecolor='white', alpha=box_alpha, boxstyle='round,pad=0.5'),\n",
    "            s='TV appeareance:\\n\"Anne Will\"', size=fontsize, alpha=1.0)\n",
    "ax.annotate(xy=(user_sign_up[user_sign_up['index'] == 'Jan\\n19'].index[0],\n",
    "                user_sign_up[user_sign_up['index'] == 'Jan\\n19']['acc_created']), xycoords='data',\n",
    "            xytext=(0.9, 0.35), textcoords='axes fraction', ha='center', va='bottom',\n",
    "            arrowprops=dict(arrowstyle='->'),\n",
    "            bbox=dict(facecolor=box_color, edgecolor='white', alpha=box_alpha, boxstyle='round,pad=0.5'),\n",
    "            s='\"Was würdest du tun\"\\nBook release', size=fontsize, alpha=1.0)\n",
    "\n",
    "ax.set_title('Monthly account creation and deletion')\n",
    "fig.text(x=0.05, y=0.5, s='Number of accounts', rotation=90, va='center')\n",
    "fig.legend(['Total', 'Account created', 'Account deleted'], loc='upper left', bbox_to_anchor=(0, 1),\n",
    "           bbox_transform=ax.transAxes)\n",
    "plt.show()"
   ]
  },
  {
   "cell_type": "markdown",
   "metadata": {},
   "source": [
    "The greatest user gains strongly coincide with raffles in which the so-called \"tandem\" feature was used. The peaks in user gains strongly coincide with raffles with the so-called \"tandem\" feature. As a user you could invite friends, which then signed up as users on the platform. When you would be raffled, a second UBI would be raffled among your group of friends on the platform.<br>\n",
    "In November 2018 the tandem feature became standard for all following raffles. This might be a strong contributor in the greater average sign-ups compared to 2014 throughout 2018.\n",
    "\n",
    "Apart from raffle features increasing media coverage around MeinBGE might be a factor in increased and decreased sign-up rates."
   ]
  },
  {
   "cell_type": "markdown",
   "metadata": {},
   "source": [
    "#### How many users decide to become monthly donors?  <a class=\"anchor\" id=\"user-to-donor-amount\"></a>"
   ]
  },
  {
   "cell_type": "markdown",
   "metadata": {},
   "source": [
    "Users can decide to donate money on a monthly basis. MeinBGE officially and affectionally calls them <i>Crowdhörnchen</i>. Over the last years their number and therefore the monthly donations have steadily risen, which makes more and more UBIs possible. <br>The following graph shows the total number of debits per month which is interpretable as the number of Crowdhörnchen per month. As the payment method is direct debit authorization, it is possible that debits cannot be fulfilled due to various reasons (e.g. insufficient funds). These bounced debits have not been factored out, as no information about them was available in my data source. Additionally, because of multiple feature changes the data is only viable since January 2018. <br>\n",
    "I used standard linear regression to calculate the growth rate of Crowdhörnchen, marked with black in the following graph."
   ]
  },
  {
   "cell_type": "code",
   "execution_count": null,
   "metadata": {},
   "outputs": [],
   "source": [
    "%config InlineBackend.figure_format = 'svg'\n",
    "\n",
    "# create LinReg\n",
    "reg = LinearRegression().fit(\n",
    "    np.array(data_CH_monthly.index).reshape(-1, 1), data_CH_monthly['count'])\n",
    "score = reg.score(np.array(data_CH_monthly.index).reshape(-1,\n",
    "                                                          1), data_CH_monthly['count'])\n",
    "prediction = reg.predict(np.array(data_CH_monthly.index).reshape(-1, 1))\n",
    "\n",
    "# create figure\n",
    "fig, ax = plt.subplots(figsize=(11, 7))\n",
    "# plot data\n",
    "plt.plot(range(len(data_CH_monthly['date_trunc'])), data_CH_monthly['count'],\n",
    "         color='#0888b2', linewidth=2, label='Monthly donors')\n",
    "plt.plot(range(len(data_CH_monthly['date_trunc'])), prediction,\n",
    "         color='black', linewidth=2, linestyle='--', label='Growth rate')\n",
    "ax.set_xticks(range(len(data_CH_monthly['date_trunc'])))\n",
    "ax.set_xticklabels(data_CH_monthly['date_trunc'])\n",
    "plt.setp(ax.get_xticklabels()[1::2], visible=False)\n",
    "ax.get_yaxis().set_major_formatter(\n",
    "    ticker.FuncFormatter(lambda x, p: format(int(x), ',')))\n",
    "ax.set_ylabel('Number of monthly donors')\n",
    "ax.set_xlabel('Date ' + r'$[ \\frac{\\mathrm{Month}}{\\mathrm{Year}}]$')\n",
    "sns.despine(ax=ax, top=True, right=True)\n",
    "ax.annotate(xy=(0.55, 0.2), xycoords='axes fraction', ha='left', va='center',\n",
    "            s='Using this LinReg (R\\u00b2 = {0:.3f})\\n'\n",
    "            'a rough growth rate was calculated to\\n'\n",
    "            r'$\\mathbf{{{1:,.0f}}}$ '\n",
    "            'additional donors per month.'.format(score, round(reg.coef_[0], -3)), size=12,\n",
    "            bbox=dict(facecolor='white', edgecolor='#707070', alpha=0.9, boxstyle='round,pad=0.8'))\n",
    "ax.legend()\n",
    "ax.set_title('Total amount of monthly donors since January 2018')\n",
    "plt.show()"
   ]
  },
  {
   "cell_type": "markdown",
   "metadata": {},
   "source": [
    "Naturally there are people that do not want or are not able to donate anymore, so a loss of donors is to be expected. The next plot shows the number of newly created and revoked debit mandates, as well as their total to visualize gain and loss. As this data includes non viable mandates MeinBGE regularly deactivates these mandates which may lead to peaks in revoked mandates."
   ]
  },
  {
   "cell_type": "code",
   "execution_count": null,
   "metadata": {},
   "outputs": [],
   "source": [
    "%config InlineBackend.figure_format = 'svg'\n",
    "# create figure\n",
    "fig = plt.figure(figsize=(10, 6))\n",
    "# set up subplots\n",
    "ax = fig.add_axes([0.15, 0.5, 0.85, 0.5])\n",
    "ax2 = fig.add_axes([0.15, 0.0, 0.85, 0.5])\n",
    "# plot data\n",
    "(ch_sign_up['created_at'] + ch_sign_up['revoked_at']).plot(drawstyle='steps-mid', color=['black'],\n",
    "                                                           linewidth=2, ax=ax)\n",
    "ch_sign_up['created_at'].plot(kind='bar', rot=0, width=1, edgecolor='white', color=[\n",
    "                              '#0888b2'], alpha=0.5, ax=ax)\n",
    "ch_sign_up['revoked_at'].plot(\n",
    "    kind='bar', rot=0, width=1, edgecolor='white', color=['#707070'], alpha=0.5, ax=ax2)\n",
    "sns.despine(ax=ax, top=True, bottom=True, right=True)\n",
    "sns.despine(ax=ax2, top=True, bottom=True, right=True)\n",
    "ax.set_ylim([0, 10000])\n",
    "ax2.set_ylim([-10000, 0])\n",
    "plt.setp(ax.get_yticklabels()[0], visible=False)\n",
    "ax.set_xticklabels([])\n",
    "plt.setp(ax2.get_xticklabels()[1::2], visible=False)\n",
    "ax2.tick_params(axis='x', pad=-30, length=0)\n",
    "ax.get_yaxis().set_major_formatter(\n",
    "    ticker.FuncFormatter(lambda x, p: format(int(x), ',')))\n",
    "ax2.get_yaxis().set_major_formatter(\n",
    "    ticker.FuncFormatter(lambda x, p: format(int(x), ',')))\n",
    "fig.text(x=0.05, y=0.5,\n",
    "         s='Crowdhörnchen gain', rotation=90, va='center')\n",
    "fig.legend(['Total', 'Mandates created', 'Mandates revoked'], loc='upper left', bbox_to_anchor=(0, 1),\n",
    "           bbox_transform=ax.transAxes)\n",
    "ax.set_title('Monthly debit mandates')\n",
    "plt.show()"
   ]
  },
  {
   "cell_type": "markdown",
   "metadata": {},
   "source": [
    "Contrary to user account creations there are much more people changing or revoking their debit mandates every month, though there a similar peaks for newly created debit mandates visible. These peaks can be explained as directly proportional to the growth of user accounts over those months. More total mandates lead to more revoked mandates and also more bouncing debits. A rise in revoked mandates is therefore to be expected."
   ]
  },
  {
   "cell_type": "markdown",
   "metadata": {},
   "source": [
    "#### When does a user become a monthly donor?  <a class=\"anchor\" id=\"user-to-donor-dates\"></a>"
   ]
  },
  {
   "cell_type": "markdown",
   "metadata": {},
   "source": [
    "Users are not required to donate anything to MeinBGE, though there is an incentive. Monthly donors do not need to sign up for every raffle manually as they are automatically included."
   ]
  },
  {
   "cell_type": "code",
   "execution_count": null,
   "metadata": {},
   "outputs": [],
   "source": [
    "%config InlineBackend.figure_format = 'svg'\n",
    "# create figure\n",
    "fig, ax = plt.subplots(figsize=(12, 7))\n",
    "# plot data\n",
    "sns.countplot(x='count', data=raffles_before_ch,\n",
    "              palette=['#0888b2', '#0bbaf4', '#6dd6f8'] +\n",
    "              ['#707070'] * (raffles_before_ch['count'].nunique() - 3)\n",
    "              )\n",
    "sns.despine(ax=ax, top=True, right=True)\n",
    "ax.set_xlabel('Raffle participation before first debit mandate')\n",
    "ax.set_ylabel('Number of users')\n",
    "ax.get_yaxis().set_major_formatter(\n",
    "    ticker.FuncFormatter(lambda x, p: '{:,}'.format(int(x))))\n",
    "ax.set_title('Raffle participation before becoming a monthly donor', size=14)\n",
    "# add inset chart to visualize percentages\n",
    "ax_inset = fig.add_axes([0.5, 0.35, 0.5, 0.5])\n",
    "# prepare data\n",
    "raffles_pie = raffles_before_ch['categorie'].value_counts(\n",
    "    sort=False).reset_index().sort_values(by='index')\n",
    "# create pie chart\n",
    "ax_inset.pie(raffles_pie['categorie'],\n",
    "             labels=raffles_pie['index'],\n",
    "             colors=['#0888b2', '#0bbaf4', '#6dd6f8',  '#707070'],\n",
    "             autopct=lambda pct: \"{:.1f}%\\n({:d})\".format(\n",
    "                 pct, int(round(pct / 100. * len(raffles_before_ch), 0))),\n",
    "             textprops=dict(color='white', weight='bold', size=8))\n",
    "ax_inset.legend(loc='upper right', title='Raffles')\n",
    "plt.show()"
   ]
  },
  {
   "cell_type": "markdown",
   "metadata": {},
   "source": [
    "This graph shows that since January 2016 over half (50.8%) of all monthly donors did not participate in a raffle before becoming a monthly donor. Almost three quarters of them will be monthly donors after their second raffle."
   ]
  },
  {
   "cell_type": "code",
   "execution_count": null,
   "metadata": {},
   "outputs": [],
   "source": [
    "%config InlineBackend.figure_format = 'svg'\n",
    "# create figure\n",
    "fig, ax = plt.subplots(figsize=(12, 7))\n",
    "# calculate percentage of first month monthly donors\n",
    "first_month_percentage = (\n",
    "    duration_til_mandate['phase_duration']/30).astype(int).value_counts(normalize=True).values[0]\n",
    "# plot data\n",
    "ax.hist(x=duration_til_mandate['phase_duration'],\n",
    "        bins=np.arange(0, 25) * 30,\n",
    "        color='#0888b2',\n",
    "        edgecolor='white', align='left')\n",
    "ax.set_xlabel('Duration [months]')\n",
    "ax.set_ylabel('Number of users')\n",
    "ax.set_yticklabels(['{:,}'.format(int(x)) for x in ax.get_yticks()])\n",
    "ax.set_xticks(np.arange(0, 24) * 30)\n",
    "ax.set_xticklabels(['{:,}'.format(int(x/30)+1) for x in ax.get_xticks()])\n",
    "plt.setp(ax.get_xticklabels()[1::2], visible=False)\n",
    "sns.despine(top=True, right=True, ax=ax)\n",
    "# annotate percentage of first month monthly donors\n",
    "ax.annotate(s=\"{0:.1%}\".format(first_month_percentage),\n",
    "            ha='center', color='white',\n",
    "            fontweight='bold', fontsize=6,\n",
    "            xy=(ax.get_xticks()[0], ax.get_ylim()[1] * 0.9))\n",
    "ax.set_title('Duration between sign up and first debit mandate', size=14)\n",
    "# calculate percentage of first day monthly donors\n",
    "first_day_percentage = duration_til_mandate['phase_duration'].value_counts(\n",
    "    normalize=True).values[0]\n",
    "# create inset plot\n",
    "ax2 = fig.add_axes([0.7, 0.6, 0.2, 0.2])\n",
    "# plot first week data\n",
    "ax2.hist(x=duration_til_mandate['phase_duration'],\n",
    "         bins=[0, 1, 2, 3, 4, 5, 6, 7],\n",
    "         color='#0888b2',\n",
    "         edgecolor='white', align='left')\n",
    "ax2.set_ylim([0, 45000])\n",
    "ax2.set_xlabel('Duration [days]')\n",
    "ax2.yaxis.set_major_locator(ticker.MultipleLocator(20000))\n",
    "ax2.set_yticklabels(ax2.get_yticks().astype(int))\n",
    "ax2.get_yaxis().set_major_formatter(\n",
    "    ticker.FuncFormatter(lambda x, p: format(int(x), ',')))\n",
    "ax2.set_yticklabels(['{:,}'.format(int(x)) for x in ax2.get_yticks()])\n",
    "ax2.set_xticklabels(['{:,}'.format(int(x)+1) for x in ax2.get_xticks()])\n",
    "# annotate percentage of first day monthly donors\n",
    "ax2.annotate(s=\"{0:.1%}\".format(first_day_percentage),\n",
    "             ha='center', color='white',\n",
    "             fontweight='bold', fontsize=6,\n",
    "             xy=(ax2.get_xticks()[1], ax2.get_ylim()[1] * 0.8))\n",
    "ax2.set_title('First Week')\n",
    "plt.show()"
   ]
  },
  {
   "cell_type": "markdown",
   "metadata": {},
   "source": [
    "Most of those that eventually become a monthly donor will do so during sign up. In fact, since January 2016 37.4% of all new users created their debit mandate on the date of their sign up, 50.2% did so within the first 30 days after their account creation."
   ]
  },
  {
   "cell_type": "markdown",
   "metadata": {},
   "source": [
    "### Monthly donations development"
   ]
  },
  {
   "cell_type": "markdown",
   "metadata": {},
   "source": [
    "#### Statistical Overview"
   ]
  },
  {
   "cell_type": "markdown",
   "metadata": {},
   "source": [
    "People wanting to donate can do so manually or via direct debit authorization. The donation value has to be in the range of at least 1€ to at most 9999€. Cent values are not allowed."
   ]
  },
  {
   "cell_type": "code",
   "execution_count": null,
   "metadata": {},
   "outputs": [],
   "source": [
    "# statistics of all monthly donations\n",
    "donations_all.describe()"
   ]
  },
  {
   "cell_type": "markdown",
   "metadata": {},
   "source": [
    "As displayed above, the now almost 1,880,000 monthly donations consist of single sums in the range of 1€ to 420€. The mean donation value is (4.20$\\pm$3.86)€. The interquartile range essentially shows that the middle 50% of Crowdhörnchen donate between 2€ to 5€ with a median of 3€. <br>\n",
    "The difference between mean and median points to outliers in the fourth quartile (few high value donations)."
   ]
  },
  {
   "cell_type": "markdown",
   "metadata": {},
   "source": [
    "#### How are the donation values distributed?  <a class=\"anchor\" id=\"donation-distribution\"></a>"
   ]
  },
  {
   "cell_type": "markdown",
   "metadata": {},
   "source": [
    "As shown in the above statistic MeinBGE and the UBIs depend mostly on small monthly donations of 5€ and less. The following graph shows how much these sums support them financially."
   ]
  },
  {
   "cell_type": "code",
   "execution_count": null,
   "metadata": {
    "scrolled": false
   },
   "outputs": [],
   "source": [
    "%config InlineBackend.figure_format = 'svg'\n",
    "# create figure\n",
    "fig, ax = plt.subplots(figsize=(12, 7))\n",
    "# plot data\n",
    "data_donation_value[-25:].plot(kind='barh', x='donation_value', y='total_donation_value',\n",
    "                               color=['#0888b2'], width=1, edgecolor='white',\n",
    "                               rot=0, ax=ax,\n",
    "                               legend=False)\n",
    "sns.despine(top=True, right=True, bottom=True)\n",
    "ax.tick_params(axis='x', which='both', bottom=False, labelbottom=False)\n",
    "# annotate donation sums\n",
    "for count, index in enumerate(data_donation_value[-10:].index):\n",
    "    ax.text(x=data_donation_value.loc[index, 'total_donation_value']\n",
    "            - data_donation_value['total_donation_value'].max() * 0.007,\n",
    "            y=15 + count,\n",
    "            s='{:,}€'.format(\n",
    "                data_donation_value.loc[index, 'total_donation_value']),\n",
    "            va='center', ha='right', color='white', weight='bold', size=7)\n",
    "ax.set_ylabel('Donated amount [€]')\n",
    "ax.set_title('Sum of donations per donated amount', size=14)\n",
    "# total number of donations per value as inset graph\n",
    "inset_data = data_donation_value.sort_values(\n",
    "    by='num_total_donations', ascending=True).reset_index(drop=True)\n",
    "# creat inset graph\n",
    "ax_inset = fig.add_axes([0.5, 0.13, 0.35, 0.4])\n",
    "# plot data\n",
    "inset_data[-10:].plot(kind='barh', x='donation_value', y='num_total_donations',\n",
    "                      color=['#0888b2'], width=1, edgecolor='white',\n",
    "                      rot=0, ax=ax_inset,\n",
    "                      legend=False)\n",
    "sns.despine(top=True, right=True, bottom=True, ax=ax_inset)\n",
    "ax_inset.tick_params(axis='x', which='both', bottom=False, labelbottom=False)\n",
    "# annotate donation numbers\n",
    "for count, index in enumerate(inset_data[-8:].index):\n",
    "    ax_inset.text(x=inset_data.loc[index, 'num_total_donations']\n",
    "                  - inset_data['num_total_donations'].max() * 0.01,\n",
    "                  y=2 + count,\n",
    "                  s='{:,}'.format(\n",
    "                      inset_data.loc[index, 'num_total_donations']),\n",
    "                  va='center', ha='right', color='white', weight='bold', size=7)\n",
    "ax_inset.set_ylabel('Donated amount [€]', size=8)\n",
    "ax_inset.set_title('Number of total donations per donated amount', size=12)\n",
    "plt.show()"
   ]
  },
  {
   "cell_type": "markdown",
   "metadata": {},
   "source": [
    "As shown above the highest cumulative donation sums per donation value belong to 5€ and 10€ which generated about 65.5% of the total donation sum. The 9 most donated values are all values less or equal than 10€ with the 10th most donated value being 15€. \n",
    "This leads to the conclusion that MeinBGE and the UBIs currently have a very low risk of suddenly not being financially liquid. "
   ]
  },
  {
   "cell_type": "markdown",
   "metadata": {},
   "source": [
    "#### How much money is donated monthly into UBIs / to organisational work? <a class=\"anchor\" id=\"donations-sum\"></a>"
   ]
  },
  {
   "cell_type": "markdown",
   "metadata": {},
   "source": [
    "All donors can decide on the intended purpose of their donation. They can choose between the usage for organisational work (salaries, officies, etc.) and the distribution as UBI in the raffles."
   ]
  },
  {
   "cell_type": "code",
   "execution_count": null,
   "metadata": {},
   "outputs": [],
   "source": [
    "%config InlineBackend.figure_format = 'svg'\n",
    "# create figure\n",
    "fig, ax = plt.subplots(figsize=(11, 7))\n",
    "# plot data\n",
    "data_donation_monthly.plot(kind='area', x='Date',\n",
    "                           y=['UBI', 'organisational work'], color=['#0888b2', '#26b796'], legend=True,\n",
    "                           ax=ax)\n",
    "ax.set_xticks(range(len(data_donation_monthly)))\n",
    "ax.set_xticklabels(data_donation_monthly['Date'])\n",
    "plt.setp(ax.get_xticklabels()[1::2], visible=False)\n",
    "ax.get_yaxis().set_major_formatter(\n",
    "    ticker.FuncFormatter(lambda x, p: format(int(x), ',')))\n",
    "ax.set_title('Donation sum over time')\n",
    "ax.set_ylabel('Donation sum [€]')\n",
    "ax.set_xlabel('Date ' + r'[$\\frac{\\mathrm{Month}}{\\mathrm{Year}}$]')\n",
    "sns.despine(ax=ax, top=True, right=True)\n",
    "plt.show()"
   ]
  },
  {
   "cell_type": "markdown",
   "metadata": {},
   "source": [
    "As the user base grows, more and more people willing to donate are joining the platform. This growth culminates in a more than doubled donation value more than doubled compared to January 2018. As of November 2019 there is a monthly donation sum of more than 500,000€ (excluding single donations). The split between donations for organisational work and UBI lies stable at about 50%, leading to a growing number of UBIs being raffled off as well as a growing organisation."
   ]
  },
  {
   "cell_type": "code",
   "execution_count": null,
   "metadata": {},
   "outputs": [],
   "source": [
    "%config InlineBackend.figure_format = 'svg'\n",
    "# create figure\n",
    "fig, ax = plt.subplots(figsize=(11, 7))\n",
    "# plot data\n",
    "data_donation_perc = data_donation_monthly[['UBI',\n",
    "                                            'organisational work']].divide(data_donation_monthly.sum(axis=1), axis=0)\n",
    "data_donation_perc['Date'] = data_donation_monthly['Date']\n",
    "\n",
    "data_donation_perc.plot(kind='area', x='Date', y=['UBI', 'organisational work'], color=['#0888b2', '#26b796'],\n",
    "                        ax=ax, stacked=True)\n",
    "ax.set_ylim([0.4, 0.6])\n",
    "ax.set_xticks(range(len(data_donation_perc)))\n",
    "ax.set_xticklabels(data_donation_perc['Date'])\n",
    "plt.setp(ax.get_xticklabels()[1::2], visible=False)\n",
    "ax.get_yaxis().set_major_formatter(ticker.FuncFormatter(\n",
    "    lambda x, p: format(str(round(x * 100, 1))) + '%'))\n",
    "ax.set_ylabel('Donation value [%]')\n",
    "ax.set_xlabel('Date ' + r'[$\\frac{\\mathrm{Month}}{\\mathrm{Year}}$]')\n",
    "sns.despine(ax=ax, top=True, right=True)\n",
    "ax.axhline(y=0.5, xmin=ax.get_xticks().min(), xmax=ax.get_xticks().max(),\n",
    "           linestyle='--', dash_capstyle='round', color='white', linewidth=0.5)\n",
    "ax.text(x=1, y=0.45, s='40% UBI', va='center', ha='left', color='white', weight='bold', size=10,\n",
    "        bbox=dict(facecolor='white', edgecolor='None', alpha=0.2, boxstyle='round,pad=0.4'))\n",
    "# annotate split defaults\n",
    "ax.annotate('Update:\\n60% UBI',\n",
    "            xy=(data_donation_perc[data_donation_perc['Date'] == 'Mar\\n19'].index[0],\n",
    "                data_donation_perc[data_donation_perc['Date'] == 'Mar\\n19'].values[0, 0]), xycoords='data',\n",
    "            xytext=(\n",
    "                data_donation_perc[data_donation_perc['Date'] == 'Mar\\n19'].index[0], 0.45),\n",
    "            textcoords='data', size=10, color='white', weight='bold', va='center', ha='center',\n",
    "            arrowprops=dict(arrowstyle='->', color='white'),\n",
    "            bbox=dict(facecolor='white', edgecolor='None',\n",
    "                      alpha=0.2, boxstyle='round,pad=0.4'),\n",
    "            horizontalalignment='right', verticalalignment='top',\n",
    "            )\n",
    "\n",
    "ax.annotate('Update:\\n80% UBI',\n",
    "            xy=(data_donation_perc[data_donation_perc['Date'] == 'May\\n19'].index[0],\n",
    "                data_donation_perc[data_donation_perc['Date'] == 'May\\n19'].values[0, 0]), xycoords='data',\n",
    "            xytext=(\n",
    "                data_donation_perc[data_donation_perc['Date'] == 'May\\n19'].index[0], 0.45),\n",
    "            textcoords='data', size=10, color='white', weight='bold', va='center', ha='center',\n",
    "            arrowprops=dict(arrowstyle='->', color='white'),\n",
    "            bbox=dict(facecolor='white', edgecolor='None',\n",
    "                      alpha=0.2, boxstyle='round,pad=0.4'),\n",
    "            horizontalalignment='right', verticalalignment='top',\n",
    "            )\n",
    "\n",
    "ax.annotate('Update:\\n60% UBI',\n",
    "            xy=(data_donation_perc[data_donation_perc['Date'] == 'Sep\\n19'].index[0],\n",
    "                data_donation_perc[data_donation_perc['Date'] == 'Sep\\n19'].values[0, 0]), xycoords='data',\n",
    "            xytext=(\n",
    "                data_donation_perc[data_donation_perc['Date'] == 'Sep\\n19'].index[0], 0.45),\n",
    "            textcoords='data', size=10, color='white', weight='bold', va='center', ha='center',\n",
    "            arrowprops=dict(arrowstyle='->', color='white'),\n",
    "            bbox=dict(facecolor='white', edgecolor='None',\n",
    "                      alpha=0.2, boxstyle='round,pad=0.4'),\n",
    "            horizontalalignment='right', verticalalignment='top',\n",
    "            )\n",
    "ax.set_title('Donation split over time', size=14)\n",
    "plt.show()"
   ]
  },
  {
   "cell_type": "markdown",
   "metadata": {},
   "source": [
    "MeinBGE sets a default donation split in the form for selecting the donation amount during the donor sign-up, which each Crowdhörnchen can adjust individually. This default split was changed multiple times in 2019 after leaning 40% towards the UBI throughout 2018.\n",
    "Following the updates in March and May 2019 with a shift of the default favouring the UBI the actual split in monthly donations changed accordingly. This suggests that generally only a few people change the selection of the default split."
   ]
  },
  {
   "cell_type": "markdown",
   "metadata": {},
   "source": [
    "### Raffles"
   ]
  },
  {
   "cell_type": "markdown",
   "metadata": {},
   "source": [
    "#### How many UBIs are raffled per month? <a class=\"anchor\" id=\"raffles-monthly\"></a>"
   ]
  },
  {
   "cell_type": "markdown",
   "metadata": {},
   "source": [
    "Since starting in 2014 MeinBGE has distributed 444 UBIs (as of November 2019). Because of the increased monthly donation sum for the raffle pot the number of possible UBIs per month has also risen."
   ]
  },
  {
   "cell_type": "code",
   "execution_count": null,
   "metadata": {},
   "outputs": [],
   "source": [
    "%config InlineBackend.figure_format = 'svg'\n",
    "# create figure\n",
    "fig, ax = plt.subplots(figsize=(12, 7))\n",
    "# plot data\n",
    "raffles_over_time.plot(kind='bar', x='draw_date', y='num_basic_incomes', color='#0888b2',\n",
    "                       width=1, edgecolor='white', rot=0,\n",
    "                       legend=False, ax=ax)\n",
    "plt.subplots_adjust(left=0.1, right=0.9, top=0.9, bottom=0.15)\n",
    "ax.set_ylabel('UBIs')\n",
    "ax.set_xlabel('Raffle draw date')\n",
    "ax.set_title('Basic incomes per raffle over time', size=14)\n",
    "plt.setp(ax.get_xticklabels()[1::2], visible=False)\n",
    "sns.despine(top=True, right=True)\n",
    "plt.show()"
   ]
  },
  {
   "cell_type": "markdown",
   "metadata": {},
   "source": [
    "Starting with the initial 4 UBIs in 2014 the number of UBIs per raffle has steadily grown.<br> \n",
    "On 02.12.2019 (not included in the data) 42 UBIs (more than half a million euro) were raffled at once, which makes this the biggest raffle by 20 UBIs as of December 2019."
   ]
  },
  {
   "cell_type": "markdown",
   "metadata": {},
   "source": [
    "## Conclusion"
   ]
  },
  {
   "cell_type": "markdown",
   "metadata": {},
   "source": [
    "This explorative analysis shows the growth of MeinBGE in relation to its user base and the growing number of mostly small monthly donations(now about 500,000€ per month) resulting in rising number of raffles and UBIs as well as the financial security of the project.\n",
    "\n",
    "The idea of a unconditional basic income currently seems to be able to engage mostly people from urban locations at the age of about 30 years and, to a smaller degree, people around the age of 55. \n",
    "\n",
    "From these people those who are willing to donate to the project the majority does so within the first days of creating a user account. This may be incentivised by the automatic sign up for the raffles when having an acitve debit mandate.\n",
    "\n",
    "As the used data is purely quantitative it does not display a full picture. More qualitative studies of user and donor motivation and why/how users come in contact with the UBI is needed for further understanding of the motives behind the data.\n",
    "\n",
    "From an analytical point of view this analysis can be expanded for example by factoring in an overview of bank data after debit collection (e.g. fees, how many debits bounce, etc.)."
   ]
  }
 ],
 "metadata": {
  "hide_input": true,
  "kernelspec": {
   "display_name": "Python 3",
   "language": "python",
   "name": "python3"
  },
  "language_info": {
   "codemirror_mode": {
    "name": "ipython",
    "version": 3
   },
   "file_extension": ".py",
   "mimetype": "text/x-python",
   "name": "python",
   "nbconvert_exporter": "python",
   "pygments_lexer": "ipython3",
   "version": "3.7.5"
  },
  "toc": {
   "base_numbering": 1,
   "nav_menu": {},
   "number_sections": true,
   "sideBar": true,
   "skip_h1_title": false,
   "title_cell": "Table of Contents",
   "title_sidebar": "Contents",
   "toc_cell": false,
   "toc_position": {
    "height": "calc(100% - 180px)",
    "left": "10px",
    "top": "150px",
    "width": "384px"
   },
   "toc_section_display": true,
   "toc_window_display": false
  }
 },
 "nbformat": 4,
 "nbformat_minor": 2
}
